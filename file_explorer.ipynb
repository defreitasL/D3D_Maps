{
 "cells": [
  {
   "cell_type": "code",
   "execution_count": 2,
   "metadata": {},
   "outputs": [],
   "source": [
    "import xarray as xr\n",
    "\n",
    "file = 'C:\\\\Delft3D_IRES\\\\02_Morpho\\\\exercises\\\\Block_3\\\\My ex\\\\B3_ex02\\\\B3_EX01_SC_a.dsproj_data\\\\Waves\\\\output\\\\wavm-Waves.nc'\n",
    "\n",
    "\n",
    "\n",
    "ds = xr.open_dataset(file)"
   ]
  },
  {
   "cell_type": "code",
   "execution_count": 4,
   "metadata": {},
   "outputs": [
    {
     "ename": "AttributeError",
     "evalue": "module 'utils' has no attribute 'Doamin'",
     "output_type": "error",
     "traceback": [
      "\u001b[1;31m---------------------------------------------------------------------------\u001b[0m",
      "\u001b[1;31mAttributeError\u001b[0m                            Traceback (most recent call last)",
      "Cell \u001b[1;32mIn[4], line 3\u001b[0m\n\u001b[0;32m      1\u001b[0m \u001b[38;5;28;01mimport\u001b[39;00m \u001b[38;5;21;01mutils\u001b[39;00m \u001b[38;5;28;01mas\u001b[39;00m \u001b[38;5;21;01mut\u001b[39;00m\n\u001b[1;32m----> 3\u001b[0m domain \u001b[38;5;241m=\u001b[39m \u001b[43mut\u001b[49m\u001b[38;5;241;43m.\u001b[39;49m\u001b[43mDoamin\u001b[49m(file)\n",
      "\u001b[1;31mAttributeError\u001b[0m: module 'utils' has no attribute 'Doamin'"
     ]
    }
   ],
   "source": [
    "import utils as ut\n",
    "\n",
    "domain = ut.Domain(file)"
   ]
  }
 ],
 "metadata": {
  "kernelspec": {
   "display_name": "IHSet_Py",
   "language": "python",
   "name": "python3"
  },
  "language_info": {
   "codemirror_mode": {
    "name": "ipython",
    "version": 3
   },
   "file_extension": ".py",
   "mimetype": "text/x-python",
   "name": "python",
   "nbconvert_exporter": "python",
   "pygments_lexer": "ipython3",
   "version": "3.10.13"
  }
 },
 "nbformat": 4,
 "nbformat_minor": 2
}
